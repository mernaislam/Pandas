{
 "cells": [
  {
   "cell_type": "markdown",
   "metadata": {},
   "source": [
    "## Part 1"
   ]
  },
  {
   "cell_type": "markdown",
   "metadata": {},
   "source": [
    "Task 1 : import the CSV file data/brasil-real-estate-1.csv into dataframe df"
   ]
  },
  {
   "cell_type": "code",
   "execution_count": null,
   "metadata": {},
   "outputs": [],
   "source": [
    "import pandas as pd\n",
    "df = pd.read_csv('brasil-real-estate-1.csv', encoding=\"latin-1\")\n",
    "df"
   ]
  },
  {
   "cell_type": "markdown",
   "metadata": {},
   "source": [
    "Task 2 :Drop all rows with NAN values from df"
   ]
  },
  {
   "cell_type": "code",
   "execution_count": null,
   "metadata": {},
   "outputs": [],
   "source": [
    "df = df.dropna()\n",
    "df"
   ]
  },
  {
   "attachments": {},
   "cell_type": "markdown",
   "metadata": {},
   "source": [
    "Task 3: use \"lat-lon\" columns to create two separate columns in df \"lat\", \"lon\". Make sure that the datatype will be float"
   ]
  },
  {
   "cell_type": "code",
   "execution_count": null,
   "metadata": {},
   "outputs": [],
   "source": [
    "print(df['lat-lon'].head())\n",
    "df[['lat', 'lon']] = df['lat-lon'].str.split(\",\", expand=True)  # use ',' as a delimiter\n",
    "print(df['lat'].head())\n",
    "print(df['lon'].head())"
   ]
  },
  {
   "attachments": {},
   "cell_type": "markdown",
   "metadata": {},
   "source": [
    "Task 4: Transform \"price_USD\" so that all values be floating points instead of strings"
   ]
  },
  {
   "cell_type": "code",
   "execution_count": null,
   "metadata": {},
   "outputs": [],
   "source": [
    "df['price_usd'] = df['price_usd'].str[1:]\n",
    "df['price_usd'] = df['price_usd'].replace(',', '', regex=True).astype(float)  # Slicing to remove the first char '$'\n",
    "df['price_usd'].head()"
   ]
  },
  {
   "cell_type": "markdown",
   "metadata": {},
   "source": [
    "Task 5: drop \"lat-lon\" columns"
   ]
  },
  {
   "cell_type": "code",
   "execution_count": null,
   "metadata": {},
   "outputs": [],
   "source": [
    "df.drop(columns=['lat-lon'], inplace=True)\n",
    "df"
   ]
  },
  {
   "cell_type": "markdown",
   "metadata": {},
   "source": [
    "Task 6: import the CSV file data/brasil-real-estate-2.csv into dataframe df2"
   ]
  },
  {
   "cell_type": "code",
   "execution_count": null,
   "metadata": {},
   "outputs": [],
   "source": [
    "df2 = pd.read_csv('brasil-real-estate-2.csv', encoding=\"latin-1\")\n",
    "df2"
   ]
  },
  {
   "attachments": {},
   "cell_type": "markdown",
   "metadata": {},
   "source": [
    "Task 7: use \"price_brl\" to create new columns named \"price_usd\" by dividing the value by 3.19"
   ]
  },
  {
   "cell_type": "code",
   "execution_count": null,
   "metadata": {},
   "outputs": [],
   "source": [
    "df2['price_usd'] = df2['price_brl'] / 3.19\n",
    "df2.head()"
   ]
  },
  {
   "attachments": {},
   "cell_type": "markdown",
   "metadata": {},
   "source": [
    "Task 8: drop \"price_brl\" from columns, as well as any rows that have Nan values"
   ]
  },
  {
   "cell_type": "code",
   "execution_count": null,
   "metadata": {},
   "outputs": [],
   "source": [
    "df2.drop(columns=['price_brl'], inplace=True)\n",
    "df2.dropna(inplace=True)\n",
    "df2"
   ]
  },
  {
   "cell_type": "markdown",
   "metadata": {},
   "source": [
    "Task 9: concatenate df and df2 into new dataframe named df_new"
   ]
  },
  {
   "cell_type": "code",
   "execution_count": null,
   "metadata": {},
   "outputs": [],
   "source": [
    "df_new = pd.concat([df, df2])\n",
    "df_new"
   ]
  },
  {
   "cell_type": "markdown",
   "metadata": {},
   "source": [
    "Task 10: use describe method to create dataframe summary_stats for \"area_m2\" and \"price_usd\" columns"
   ]
  },
  {
   "cell_type": "code",
   "execution_count": null,
   "metadata": {},
   "outputs": [],
   "source": [
    "summary_stats = df_new[['area_m2', 'price_usd']].describe()\n",
    "summary_stats"
   ]
  },
  {
   "cell_type": "markdown",
   "metadata": {},
   "source": [
    "Task 11: use groupby method to create a series named mean_price_by_region that shows the mean home price in brazil, sorted from smallest to highest"
   ]
  },
  {
   "cell_type": "code",
   "execution_count": null,
   "metadata": {},
   "outputs": [],
   "source": [
    "mean_price_by_region = df_new.groupby('region')['price_usd'].mean().sort_values()\n",
    "mean_price_by_region"
   ]
  },
  {
   "cell_type": "markdown",
   "metadata": {},
   "source": [
    "Task 12: create new dataframe named df_south that contains all homes from df in South region"
   ]
  },
  {
   "cell_type": "code",
   "execution_count": null,
   "metadata": {},
   "outputs": [],
   "source": [
    "df_south = df_new[df_new['region'] == 'South']\n",
    "df_south"
   ]
  },
  {
   "attachments": {},
   "cell_type": "markdown",
   "metadata": {},
   "source": [
    "Task 13: use value_counts method to create a series home_by_state that contains the number of properties in df_south"
   ]
  },
  {
   "cell_type": "code",
   "execution_count": null,
   "metadata": {},
   "outputs": [],
   "source": [
    "home_by_state = df_south.groupby('state')['property_type'].value_counts()\n",
    "home_by_state"
   ]
  },
  {
   "cell_type": "markdown",
   "metadata": {},
   "source": [
    "## Part 2"
   ]
  },
  {
   "attachments": {},
   "cell_type": "markdown",
   "metadata": {},
   "source": [
    "Task 14: Write a wrangle function that takes the name of csv as argument and perform the following : \n",
    "\n",
    "1- read mexico-real-estate-1.csv into df \n",
    "\n",
    "2- get only the apartment that locates in mexico city \"Distrito Federal\" that costs less than 100,000\n",
    "\n",
    "3- create separate \"lat\" and \"lon\" columns as done before\n",
    "\n",
    "4- drop columns that are more than 50 % Nan values\n",
    "\n",
    "5- drop all columns with categorical values\n",
    "\n",
    "6- return df at last "
   ]
  },
  {
   "cell_type": "code",
   "execution_count": null,
   "metadata": {},
   "outputs": [],
   "source": [
    "def wrangle(filename):\n",
    "    df = pd.read_csv(filename, encoding=\"latin-1\")\n",
    "    col_name_lst = list(df.columns)\n",
    "    price_col_name = col_name_lst[-1]\n",
    "    if df[price_col_name].dtype == object:\n",
    "        df[price_col_name] = df[price_col_name].str[1:]\n",
    "        df[price_col_name] = df[price_col_name].replace(',', '', regex=True).astype(float)\n",
    "    if 'state' in df.columns:\n",
    "        df = df.loc[(df['state'] == 'Distrito Federal') & (df[price_col_name] < 100000)]\n",
    "    else:\n",
    "        df = df.loc[df[price_col_name] < 100000]\n",
    "    if 'lat-lon' in df.columns:\n",
    "        df[['lat', 'lon']] = df['lat-lon'].str.split(\",\", expand=True)\n",
    "    min_count = int(0.5 * df.shape[0] + 1)\n",
    "    df.dropna(axis=1, thresh=min_count, inplace=True)\n",
    "    df.drop(df.select_dtypes(include=['object', 'category']), axis=1, inplace=True)\n",
    "    return df\n",
    "\n",
    "new_df = wrangle('mexico-real-estate-1.csv')\n",
    "new_df"
   ]
  },
  {
   "attachments": {},
   "cell_type": "markdown",
   "metadata": {},
   "source": [
    "use glob method to create list of files. it should contain the filename of all mexico real state. "
   ]
  },
  {
   "cell_type": "code",
   "execution_count": null,
   "metadata": {},
   "outputs": [],
   "source": [
    "import glob as gb\n",
    "filename_list = []\n",
    "for i in gb.glob('mexico-real-estate-[0-9].csv'):\n",
    "    filename_list.append(i)\n",
    "filename_list"
   ]
  },
  {
   "attachments": {},
   "cell_type": "markdown",
   "metadata": {},
   "source": [
    "combine your wrangle function, a list comprehension and pd.concat to create new dataframe df from all files names from previous task"
   ]
  },
  {
   "cell_type": "code",
   "execution_count": null,
   "metadata": {},
   "outputs": [],
   "source": [
    "df_brasil_1 = wrangle('brasil-real-estate-1.csv')\n",
    "df_brasil_2 = wrangle('brasil-real-estate-2.csv')\n",
    "df_mexico_1 = wrangle('mexico-real-estate-1.csv')\n",
    "df_mexico_2 = wrangle('mexico-real-estate-2.csv')\n",
    "df_mexico_3 = wrangle('mexico-real-estate-3.csv')\n",
    "df_all = pd.concat([df_brasil_1, df_brasil_2, df_mexico_1, df_mexico_2, df_mexico_3])\n",
    "df_all"
   ]
  }
 ],
 "metadata": {
  "kernelspec": {
   "display_name": "Python 3",
   "language": "python",
   "name": "python3"
  },
  "language_info": {
   "codemirror_mode": {
    "name": "ipython",
    "version": 3
   },
   "file_extension": ".py",
   "mimetype": "text/x-python",
   "name": "python",
   "nbconvert_exporter": "python",
   "pygments_lexer": "ipython3",
   "version": "3.11.2"
  },
  "vscode": {
   "interpreter": {
    "hash": "31f2aee4e71d21fbe5cf8b01ff0e069b9275f58929596ceb00d14d90e3e16cd6"
   }
  }
 },
 "nbformat": 4,
 "nbformat_minor": 4
}
